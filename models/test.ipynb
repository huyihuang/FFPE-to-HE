{
 "cells": [
  {
   "cell_type": "code",
   "execution_count": 1,
   "metadata": {},
   "outputs": [
    {
     "name": "stdout",
     "output_type": "stream",
     "text": [
      "HVLoss.weights= [32.0, 16.0, 8.0, 4.0]\n"
     ]
    }
   ],
   "source": [
    "from networks import HVLoss\n",
    "import cv2\n",
    "import torch\n",
    "device = torch.device('cuda:0')\n",
    "hv_loss = HVLoss(gpu_ids = 0)"
   ]
  },
  {
   "cell_type": "code",
   "execution_count": 2,
   "metadata": {},
   "outputs": [
    {
     "data": {
      "text/plain": [
       "torch.Size([1, 3, 1024, 1024])"
      ]
     },
     "execution_count": 2,
     "metadata": {},
     "output_type": "execute_result"
    }
   ],
   "source": [
    "file_path = '/data2/yhhu/BreastCancer/virtual_stain/Datasets/FFPE2HE1152_diff0.3/valB/F220001-2_432.jpg'\n",
    "x = cv2.imread(file_path)\n",
    "x = cv2.cvtColor(x, cv2.COLOR_BGR2RGB)\n",
    "\n",
    "x = torch.tensor(x).float().to(device)\n",
    "x.requires_grad_(False)\n",
    "x = x.permute(2,0,1)\n",
    "x=x.unsqueeze(0)\n",
    "x.shape"
   ]
  },
  {
   "cell_type": "code",
   "execution_count": 3,
   "metadata": {},
   "outputs": [
    {
     "data": {
      "text/plain": [
       "tensor(0.2571, device='cuda:0')"
      ]
     },
     "execution_count": 3,
     "metadata": {},
     "output_type": "execute_result"
    }
   ],
   "source": [
    "y = x.clone() / 2.0\n",
    "y.requires_grad_(False)\n",
    "# y = copy.deepcopy(x)\n",
    "loss = hv_loss(x,y)\n",
    "loss"
   ]
  },
  {
   "cell_type": "code",
   "execution_count": 4,
   "metadata": {},
   "outputs": [
    {
     "data": {
      "text/plain": [
       "tensor(0.3688, device='cuda:0')"
      ]
     },
     "execution_count": 4,
     "metadata": {},
     "output_type": "execute_result"
    }
   ],
   "source": [
    "y = x.clone() / 4.0\n",
    "y.requires_grad_(False)\n",
    "# y = copy.deepcopy(x)\n",
    "loss = hv_loss(x,y)\n",
    "loss"
   ]
  }
 ],
 "metadata": {
  "kernelspec": {
   "display_name": "py38",
   "language": "python",
   "name": "python3"
  },
  "language_info": {
   "codemirror_mode": {
    "name": "ipython",
    "version": 3
   },
   "file_extension": ".py",
   "mimetype": "text/x-python",
   "name": "python",
   "nbconvert_exporter": "python",
   "pygments_lexer": "ipython3",
   "version": "3.8.16"
  }
 },
 "nbformat": 4,
 "nbformat_minor": 2
}
